{
  "nbformat": 4,
  "nbformat_minor": 0,
  "metadata": {
    "colab": {
      "provenance": [],
      "include_colab_link": true
    },
    "kernelspec": {
      "name": "python3",
      "display_name": "Python 3"
    },
    "language_info": {
      "name": "python"
    }
  },
  "cells": [
    {
      "cell_type": "markdown",
      "metadata": {
        "id": "view-in-github",
        "colab_type": "text"
      },
      "source": [
        "<a href=\"https://colab.research.google.com/github/mcstllns/Semana-de-la-Ciencia/blob/main/Demo_Semana_de_la_Ciencia.ipynb\" target=\"_parent\"><img src=\"https://colab.research.google.com/assets/colab-badge.svg\" alt=\"Open In Colab\"/></a>"
      ]
    },
    {
      "cell_type": "markdown",
      "source": [
        "![](https://biblioteca.ucm.es/data/cont/docs/60-2016-09-20-Marca%20UCM%20Secundaria%20Monocromo%20Tramado.jpg)\n",
        "\n",
        "\\\n",
        "# Uso de la Inteligencia Artificial Generativa en Psicología\n",
        "\n",
        "**Profesor**: Miguel A. Castellanos (mcastellanos@psi.ucm.es)\n",
        "\n",
        "\\\n",
        "Este notebook, y los powerpoints relacionados, se encuentran en esta carpeta de github [\"Demo para la Semana de la Ciencia\"]().\n",
        "\n",
        "\\\n",
        "En este cuaderno vamos a crear un mini ejemplo de como se pueden usar las IAs generativas para crear un test proyectivo (como el test voight-kampff de la película) que sea a su vez objetivo y científico.\n",
        "\n",
        "\\\n",
        "Este tipo de test no existe aún, ni existirá durante un tiempo, simplemente es un ejemplo de lo que esperamos que ocurra en el futuro en el área de Psicometría. La mayoría de las universidades y centros de investigación estamos trabajando en esta línea.\n",
        "\n",
        "\\\n",
        "El principal motivo por el que hoy en día no es seguro usar IAs para la evaluación es porque su propiedades métricas (qué miden, cómo lo miden, en qué grado, qué intensidad, etc.) son desconocidas y no son directamente controlables. Con el tiempo estoy seguro de que estos modelos sí serán plausibles.\n",
        "\n",
        "\\\n",
        "En esta demo vamos a utilizar diversos trasformers para generar items automáticamente y analizarlos las respuestas de un sujeto. Además, podemos utilizar imágenes tomadas de los respondientes para analizar sus expresiones mientras contestan y asociarlas con el test.\n",
        "\n",
        "\\\n",
        "Aunque algunos modelos pueden funcionar razonablemente en castellano es mejor trabajar con ellos directamente en inglés, si da pereza escribir directamente os recomiendo usar [***DeepL.com***](https://www.deepl.com/).\n",
        "\n",
        "\\\n",
        "La demo está dividida en tres partes:\n",
        "- Vamos a generar items de forma automática.\n",
        "- Vamos a analizar la respuesta dada por un respondiente.\n",
        "- Vamos a cargar una imagen y a hacer preguntas a la IA sobre ella.\n",
        "\n",
        "Y para ello utilizaremos los siguientes modelos transformers:\n",
        "- ***GPT-2***: Para la generación de los items.\n",
        "- ***distilroberta***: Para la clasificación de las emociones.\n",
        "- ***blip-vqa***: Para el procesamiento de imágenes.\n",
        "\n",
        "\n",
        "\\\n",
        "Para ejecutar esta demo tienes que cargar este fichero en el servicio [colab](https://colab.research.google.com/) de Google y tener una cuenta de Gmail.\n",
        "\n"
      ],
      "metadata": {
        "id": "MiMWl49WNxqd"
      }
    },
    {
      "cell_type": "markdown",
      "source": [
        "## 1. Generación de ítems\n",
        "\n",
        "Esta parte del código está diseñada para completar sentencias, por ejemplo, yo empiezo diciendo \"An unhappy person talk about\" y la IA debe generarme items que sea coherentes con ese inicio, por ejemplo:\n",
        "\n",
        "- \"committing suicide at some point in time\"\n",
        "- \"how horrible life is\"\n",
        "- \"being friendless and lonely in life\"\n",
        "- etc.\n",
        "\n",
        "Si controlamos la creación de ítems podemos conseguir test absolutamente personalizados y adpatativos que no se **\"*quemen*\"** nunca.\n",
        "\n",
        "Si probamos a sustituir el ***prompt*** podemos generar items siempre nuevos para medir distintos rasgos en distintos niveles.\n"
      ],
      "metadata": {
        "id": "8Z2NprDtOQUE"
      }
    },
    {
      "cell_type": "code",
      "source": [
        "# Load libraries and functions\n",
        "from transformers import AutoModelForCausalLM, AutoTokenizer\n",
        "import torch\n",
        "\n",
        "# Load the model and tokenizer\n",
        "model_name = \"gpt2-medium\"  # Choose a version of GPT-2, e.g., \"gpt2\", \"gpt2-medium\", \"gpt2-large\", etc.\n",
        "tokenizer = AutoTokenizer.from_pretrained(model_name)\n",
        "model = AutoModelForCausalLM.from_pretrained(model_name)"
      ],
      "metadata": {
        "id": "x7jCQjLDoApc"
      },
      "execution_count": null,
      "outputs": []
    },
    {
      "cell_type": "code",
      "source": [
        "\n",
        "# Define the prompt you want to complete\n",
        "\n",
        "\n",
        "\n",
        "# ↓↓↓↓↓↓↓↓↓↓↓↓↓↓↓↓↓↓↓↓↓↓↓↓↓↓↓↓↓↓↓↓\n",
        "prompt = \"An unhappy person talks about\"\n",
        "# ↑↑↑↑↑↑↑↑↑↑↑↑↑↑↑↑↑↑↑↑↑↑↑↑↑↑↑↑↑↑↑↑\n",
        "\n",
        "\n",
        "\n",
        "# Encode the input and move tensors to the model's device (CPU/GPU)\n",
        "inputs = tokenizer(prompt, return_tensors=\"pt\")\n",
        "inputs = {key: value.to(model.device) for key, value in inputs.items()}\n",
        "\n",
        "# Generate text\n",
        "with torch.no_grad():\n",
        "    output = model.generate(**inputs, max_length=50, do_sample=True, temperature=0.7)\n",
        "\n",
        "# Decode the output and print the result\n",
        "completion = tokenizer.decode(output[0], skip_special_tokens=True)"
      ],
      "metadata": {
        "id": "a6Q8GlaqnYr6"
      },
      "execution_count": null,
      "outputs": []
    },
    {
      "cell_type": "code",
      "source": [
        "print(\"Generated ITEM: \\n\\n\")\n",
        "print(completion)"
      ],
      "metadata": {
        "id": "d519UrA_p1Q7"
      },
      "execution_count": null,
      "outputs": []
    },
    {
      "cell_type": "markdown",
      "source": [
        "## 2. Análisis de respuestas\n",
        "\n",
        "Escribe una respuesta que sea coherente con el ítem que has generado. Puede ser todo lo larga que quieras pero es mejor si es corta."
      ],
      "metadata": {
        "id": "7cWJqM7XPYuN"
      }
    },
    {
      "cell_type": "code",
      "source": [
        "from transformers import pipeline\n",
        "\n",
        "# Crea un pipeline para clasificación de emociones\n",
        "clasificador_emociones = pipeline(\"text-classification\", model=\"j-hartmann/emotion-english-distilroberta-base\", top_k=1)\n",
        "\n",
        "# Texto para analizar\n",
        "\n",
        "# ↓↓↓↓↓↓↓↓↓↓↓↓↓↓↓↓↓↓↓↓↓↓↓↓↓↓↓↓↓↓↓↓\n",
        "texto = \"I am very happy because I have been told that I am handsome.\"\n",
        "# ↑↑↑↑↑↑↑↑↑↑↑↑↑↑↑↑↑↑↑↑↑↑↑↑↑↑↑↑↑↑↑↑\n",
        "\n",
        "\n",
        "\n",
        "# Clasifica la emoción principal en el texto\n",
        "emocion = clasificador_emociones(texto)\n"
      ],
      "metadata": {
        "id": "JJ3vuN6CqzGU"
      },
      "execution_count": null,
      "outputs": []
    },
    {
      "cell_type": "code",
      "source": [
        "# Imprime la emoción detectada\n",
        "print(\"Emoción principal detectada:\")\n",
        "print(emocion[0])"
      ],
      "metadata": {
        "id": "-Sv6sdoWP4pY"
      },
      "execution_count": null,
      "outputs": []
    },
    {
      "cell_type": "markdown",
      "source": [
        "## 3. Análisis de imágenes\n",
        "\n",
        "Este código va a generarte una ventana para que desde la cámara de tu portatil tomes una imagen y hagas preguntas sobre ella.\n",
        "\n",
        "Al ejecutarlo te aparecerá un enlace que tienes que pinchar para que se abra la ventana."
      ],
      "metadata": {
        "id": "xUBt_PXQP7AI"
      }
    },
    {
      "cell_type": "code",
      "source": [
        "from transformers import BlipProcessor, BlipForQuestionAnswering\n",
        "import gradio as gr\n",
        "\n",
        "procesador = BlipProcessor.from_pretrained(\"Salesforce/blip-vqa-base\")\n",
        "modelo = BlipForQuestionAnswering.from_pretrained(\"Salesforce/blip-vqa-base\")\n",
        "\n",
        "def question_fn(image, question):\n",
        "  salida = modelo.generate(**procesador(images=image, text=question, return_tensors=\"pt\", padding=True))\n",
        "  respuesta = procesador.decode(salida[0], skip_special_tokens=True)\n",
        "  return respuesta\n",
        "\n",
        "# Define the Gradio interface\n",
        "iface = gr.Interface(\n",
        "    fn=question_fn,\n",
        "    inputs=[gr.Image(type=\"pil\"), gr.Textbox(label=\"Question\")],\n",
        "    outputs=gr.Textbox(label=\"Answer\"),\n",
        "    title=\"Visual Question Answering\",\n",
        "    description=\"Upload an image and ask a question related to the image. The AI will try to answer it.\"\n",
        ")"
      ],
      "metadata": {
        "id": "BViBWyxesE7H"
      },
      "execution_count": null,
      "outputs": []
    },
    {
      "cell_type": "code",
      "source": [
        "# Launch the interface\n",
        "iface.launch()"
      ],
      "metadata": {
        "id": "HBjVw1j3tfWZ"
      },
      "execution_count": null,
      "outputs": []
    },
    {
      "cell_type": "markdown",
      "source": [
        "## Ya hemos terminado!!\n",
        "\n",
        "Muchas gracias por tu tiempo, espero que te haya parecido interesante y hayas aprendido algo sobre la Psicología, la Psicometría y la Psicología matemática.\n",
        "\n",
        "Si quieres llevarte esta demo y los powerpoint a casa accede a esta dirección web o haz una foto a este QR.\n",
        "\n",
        "\n",
        "![](https://github.com/mcstllns/Semana-de-la-Ciencia/blob/main/QR.png?raw=true)"
      ],
      "metadata": {
        "id": "Nt9MffNjQUgl"
      }
    }
  ]
}